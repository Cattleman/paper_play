{
 "cells": [
  {
   "cell_type": "code",
   "execution_count": 82,
   "metadata": {},
   "outputs": [],
   "source": [
    "import pandas as pd\n",
    "import numpy as np\n",
    "#import keras \n",
    "import matplotlib.pyplot as plt\n",
    "from sklearn.svm import LinearSVC, SVC\n",
    "from sklearn.metrics import log_loss, accuracy_score\n",
    "import pymc3\n",
    "from scipy import stats\n",
    "np.random.seed = 42\n",
    "from IPython.display import Image\n",
    "from IPython.core.display import HTML"
   ]
  },
  {
   "cell_type": "markdown",
   "metadata": {},
   "source": [
    "### Learning to Simulate\n",
    "\n",
    "Simplified implementation of paper below.\n",
    "\n",
    "Simplifications, ditch RIENFORCE to just act on accuracy vector ( Y_true - y_pred)\n",
    "\n",
    "**Paper:** https://arxiv.org/pdf/1810.02513.pdf\n",
    "\n",
    "**Resources for RIENFORCE algorithms:** \n",
    "1. https://medium.com/samkirkiles/reinforce-policy-gradients-from-scratch-in-numpy-6a09ae0dfe12\n",
    "<br>\n",
    "<br>\n",
    "2. http://www-anw.cs.umass.edu/~barto/courses/cs687/williams92simple.pdf\n",
    "\n",
    "\n",
    "## See page 3 for psudo-code\n",
    "\n",
    "1. Use policy $\\pi_{\\omega}$ to generate $K$ model parameters $\\Psi_{k}$\n",
    "2. Generate $K$ datasets of size M (simplified)\n",
    "3. Train Main task (MTM) model on $K$ datasets\n",
    "4. Calculate the accuracy of the trained MTM on the validation set.\n",
    "5. Compute the advantage estimate (We will skip this step)\n",
    "6. Update policy parameters, $\\omega$    "
   ]
  },
  {
   "cell_type": "markdown",
   "metadata": {},
   "source": [
    "### Create our simple validation Dataset\n"
   ]
  },
  {
   "cell_type": "code",
   "execution_count": 12,
   "metadata": {},
   "outputs": [],
   "source": [
    "### Validation Data -\n",
    "\n",
    "X_true = np.array([[1,2],\n",
    "                  [1.2,2],\n",
    "                  [1.5,2],\n",
    "                  [2.2, 1],\n",
    "                  [2.3, 1],\n",
    "                  [2.4, 1]])\n",
    "                                \n",
    "Y_true = np.array([1,1,1,0,0,0])"
   ]
  },
  {
   "cell_type": "code",
   "execution_count": 13,
   "metadata": {},
   "outputs": [
    {
     "data": {
      "image/png": "[encoded data removed]",
      "text/plain": [
       "<matplotlib.figure.Figure at 0x11e848da0>"
      ]
     },
     "metadata": {},
     "output_type": "display_data"
    }
   ],
   "source": [
    "### Plot of our Validation Data\n",
    "plt.scatter(X_true[:3,0], X_true[:3,1], c='r', label='Red Class')\n",
    "plt.scatter(X_true[3:,0], X_true[3:,1], c='b', label='Blue Class')\n",
    "plt.legend(loc='best');"
   ]
  },
  {
   "cell_type": "markdown",
   "metadata": {},
   "source": [
    "### In the plot above we can imagine a linear decision boundary"
   ]
  },
  {
   "cell_type": "markdown",
   "metadata": {},
   "source": [
    "### Assumption - we know how many classes we want"
   ]
  },
  {
   "cell_type": "markdown",
   "metadata": {},
   "source": [
    "### Simulator"
   ]
  },
  {
   "cell_type": "code",
   "execution_count": 7,
   "metadata": {},
   "outputs": [],
   "source": [
    "# Bounds - we want to give our simulator a space we expect the data to come from\n",
    "#BOUNDS = [-1,4] # sim data values should fall between -1 and 4, inclusive\n",
    "\n",
    "SIM_DATA_COUNT = 10 # number of observations per class we want to generate\n"
   ]
  },
  {
   "cell_type": "markdown",
   "metadata": {},
   "source": [
    "The paper used GMM as an example, we can simplify by just using \n",
    "samples from gaussians to generate our (x,y) cord. pairs.\n",
    "\n",
    "We will hold our standard deviations fixed and only update our\n",
    "$\\mu$ values each epoch <br>\n",
    "\n",
    "<br>\n",
    "NOTE:\n",
    "<br>\n",
    "loc = $\\mu$, mean <br>\n",
    "scale = $\\sigma$, standard deviation"
   ]
  },
  {
   "cell_type": "code",
   "execution_count": 14,
   "metadata": {},
   "outputs": [],
   "source": [
    "red = np.random.normal(loc=1, scale=0.1, size=SIM_DATA_COUNT) \n",
    "red1 = np.random.normal(loc=1, scale=0.1, size=SIM_DATA_COUNT) \n",
    "red_array = np.array([red, red1]).T"
   ]
  },
  {
   "cell_type": "code",
   "execution_count": 15,
   "metadata": {},
   "outputs": [],
   "source": [
    "blue = np.random.normal(loc=1, scale=0.1, size=SIM_DATA_COUNT)\n",
    "blue1 = np.random.normal(loc=1, scale=0.1, size=SIM_DATA_COUNT)\n",
    "blue_array = np.array([blue, blue1]).T"
   ]
  },
  {
   "cell_type": "code",
   "execution_count": 16,
   "metadata": {},
   "outputs": [
    {
     "data": {
      "image/png": "[encoded data removed]",
      "text/plain": [
       "<matplotlib.figure.Figure at 0x11e998a90>"
      ]
     },
     "metadata": {},
     "output_type": "display_data"
    }
   ],
   "source": [
    "plt.scatter(red_array[:,0], red_array[:,1], marker='x', c='red', label='Red Guess')\n",
    "plt.scatter(blue_array[:,0], blue_array[:,1], marker='x', c='blue', label='Blue Guess')\n",
    "plt.scatter(X_true[:3,0], X_true[:3,1], c='r', label='Red Class')\n",
    "plt.scatter(X_true[3:,0], X_true[3:,1], c='b', label='Blue Class')\n",
    "plt.xlim(0, 3)\n",
    "plt.ylim(0,3)\n",
    "plt.legend(loc='best');"
   ]
  },
  {
   "cell_type": "markdown",
   "metadata": {},
   "source": [
    "### What do we see?\n",
    "\n",
    "In the plot above we would expect our guesses to be clustered together, \n",
    "becuase they are generated by the same $\\mu$ and $\\sigma$ parameters.\n",
    "As we simulate new data, fit and test we can then update the $\\mu$ to yield a distribution that more closely matches the validation data.\n",
    "<br>\n"
   ]
  },
  {
   "cell_type": "markdown",
   "metadata": {},
   "source": [
    "### Simulator\n",
    "\n",
    "This function will take the paramaters of our distributions \n",
    "and an integer for the number of samples we want to take.\n",
    "<br>\n",
    "<br>\n",
    "Then, we will assign labels based on the distribtion that generated the values.\n",
    "<br>\n",
    "<br>\n",
    "Finally, an array of the (x,y) cords. and class label are returned. Where 1 = red and 0 = blue"
   ]
  },
  {
   "cell_type": "code",
   "execution_count": 24,
   "metadata": {},
   "outputs": [],
   "source": [
    "def SIMULATOR(red_mu=0, red_sd=0.1,\n",
    "              blue_mu=0, blue_sd=0.1, \n",
    "              SIM_DATA_COUNT=10):\n",
    "    \n",
    "    # Red Class - sample values from gaussian\n",
    "    red = np.random.normal(loc=red_mu, scale=red_sd, size=SIM_DATA_COUNT) \n",
    "    red1 = np.random.normal(loc=red_mu, scale=red_sd, size=SIM_DATA_COUNT) \n",
    "    red_array = np.array([red, red1]).T\n",
    "    \n",
    "   # Blue Class - sample values from gaussian \n",
    "    blue = np.random.normal(loc=blue_mu, scale=blue_sd, size=SIM_DATA_COUNT)\n",
    "    blue1 = np.random.normal(loc=blue_mu, scale=blue_sd, size=SIM_DATA_COUNT)\n",
    "    blue_array = np.array([blue, blue1]).T\n",
    "\n",
    "    # Assign class label, 1 = red, 0 = blue    \n",
    "    red_set = np.vstack([red_array.T, np.ones_like(red)]).T\n",
    "    blue_set = np.vstack([blue_array.T, np.zeros_like(blue)]).T\n",
    "\n",
    "    # combine the simulated sets\n",
    "    sim_train_data = np.concatenate((red_set, blue_set))\n",
    "\n",
    "    return sim_train_data\n"
   ]
  },
  {
   "cell_type": "markdown",
   "metadata": {},
   "source": [
    "### Fit and test\n",
    "\n",
    "This function takes:\n",
    "    * A classifier (SVM with RBF kernel in this case)\n",
    "    * simulated data array\n",
    "    * Validation data\n",
    "\n",
    "1. The classifier is fit with the simulated data\n",
    "2. Simple error is calculated \n",
    "3. the simple error is returned"
   ]
  },
  {
   "cell_type": "code",
   "execution_count": 25,
   "metadata": {},
   "outputs": [],
   "source": [
    "def fit_and_test(clf, sim_train_data, X_true, Y_true):\n",
    "    \n",
    "    # prepare simulated data\n",
    "    X = sim_train_data[:,:2]\n",
    "    Y = sim_train_data[:,-1]\n",
    "    \n",
    "    # Train on simulated data\n",
    "    clf.fit(X,Y)\n",
    "    \n",
    "    # predict\n",
    "    pred = clf.predict(X_true)\n",
    "    \n",
    "    # simple error  - accuracy\n",
    "    acc = Y_true - pred\n",
    "    \n",
    "    return acc"
   ]
  },
  {
   "cell_type": "markdown",
   "metadata": {},
   "source": [
    "### Calculate Adjustment Step\n",
    "\n",
    "I started to dig into the RIENFORCE algorithm and some awesome policy gradient stuff,\n",
    "but it was quickly obvious that I would need a while to digest it.\n",
    "\n",
    "So, rather than dealing with gradients we can just use the accuracy vector!\n",
    "\n",
    "\n",
    "This function takes:\n",
    "    * an accuracy vector\n",
    "    * the class labels from the validation set\n",
    "    * A learning rate - the amount we will adjust the *_mu value per epoch\n",
    "\n",
    "The class label vector is used to get the indecies that corespond to the accuracy value\n",
    "<br>\n",
    "The adjustment factor for each datum is the absolute value of the accuracy value * learing rate.\n",
    "<br> \n",
    "To simplify, the mode of the adjustments per class is taken to get a single scaler for each class.\n",
    "<br>\n",
    "The Scalers are returned so that they can be applied in a future update step."
   ]
  },
  {
   "cell_type": "code",
   "execution_count": 26,
   "metadata": {},
   "outputs": [],
   "source": [
    "### Rather than dealing with gradients we can just use the accuracy column\n",
    "# lr = learning rate = the amount we will adjust the *_mu value\n",
    "\n",
    "def mu_adj(acc, Y_true, lr=0.2):\n",
    "    \n",
    "    # Get class 1 indecies\n",
    "    c1_id = [i for i in range(len(Y_true)) if Y_true[i] > 0]\n",
    "    #Getclass 2 idecies\n",
    "    c0_id = [i for i in range(len(Y_true)) if Y_true[i] == 0]\n",
    "    \n",
    "    adj =  abs(acc * lr) # multiply by -1 because accuracy of -1 means we need to INCREASE mu, so we want a postive value\n",
    "    \n",
    "    # For class `1` \n",
    "    class_1_adj = stats.mode(adj[[c1_id]])[0][0] # take the mode of the adjustments\n",
    "    \n",
    "    class_0_adj = stats.mode(adj[[c0_id]])[0][0] # take the mode of the adjustments\n",
    "    \n",
    "    return [class_1_adj, class_0_adj]"
   ]
  },
  {
   "cell_type": "markdown",
   "metadata": {},
   "source": [
    "### Put it all together\n",
    "\n",
    "**Psudo code** <br>\n",
    "1. Use policy $\\pi_{\\omega}$ to generate $K$ model parameters $\\Psi_{k}$\n",
    "2. Generate $K$ datasets of size M (simplified)\n",
    "3. Train Main task (MTM) model on $K$ datasets\n",
    "4. Calculate the accuracy of the trained MTM on the validation set.\n",
    "5. Compute the advantage estimate (We will skip this step)\n",
    "6. Update policy parameters, $\\omega$    \n"
   ]
  },
  {
   "cell_type": "markdown",
   "metadata": {},
   "source": [
    "### DISCLAIMER: SINCE WE'RE DEALING WITH RANDOM NUMBERS YOU MAY NOT GET THE SAME VALUES IF YOU RERUN THIS CELL"
   ]
  },
  {
   "cell_type": "code",
   "execution_count": 59,
   "metadata": {},
   "outputs": [],
   "source": [
    "clf = SVC(kernel='rbf',random_state=0, C=1000)"
   ]
  },
  {
   "cell_type": "code",
   "execution_count": 40,
   "metadata": {},
   "outputs": [
    {
     "name": "stdout",
     "output_type": "stream",
     "text": [
      "Finished Epoch: 0\n",
      "red_mu: 1.2, blue_mu: 1.0\n",
      "Finished Epoch: 1\n",
      "red_mu: 1.2, blue_mu: 1.2\n",
      "Finished Epoch: 2\n",
      "red_mu: 1.2, blue_mu: 1.4\n",
      "Finished Epoch: 3\n",
      "red_mu: 1.4, blue_mu: 1.4\n",
      "Finished Epoch: 4\n",
      "red_mu: 1.5999999999999999, blue_mu: 1.4\n"
     ]
    }
   ],
   "source": [
    "clf = SVC(kernel='rbf',random_state=0, C=1000)\n",
    "\n",
    "LEARNING_RATE = 0.2 #how much we will adjust the *_mu values\n",
    "\n",
    "# initialize *_mu\n",
    "red_mu = 1.\n",
    "blue_mu = 1.\n",
    "\n",
    "EPOCHS = 5\n",
    "\n",
    "for i in range(EPOCHS):\n",
    "    \n",
    "    epoch = i\n",
    "    \n",
    "    # 1., 2. Generate training data\n",
    "    sim_train_data = SIMULATOR(red_mu=red_mu,\n",
    "                               blue_mu=blue_mu)\n",
    "    \n",
    "    # 3. Train the model on sim data and evaluate accuracy\n",
    "    accuracy = fit_and_test(clf, sim_train_data, X_true, Y_true)\n",
    "    \n",
    "    # 4. Calulate the adjustment to the *_mu values\n",
    "    adjustments = mu_adj(accuracy, Y_true, lr=LEARNING_RATE)\n",
    "    \n",
    "    # 5. SKIP\n",
    "    \n",
    "    # 6. Update Policy Parameters, \\omega\n",
    "    red_mu += adjustments[0]\n",
    "    blue_mu += adjustments[1]\n",
    "    \n",
    "    print(f'Finished Epoch: {epoch}')\n",
    "    print(f'red_mu: {red_mu}, blue_mu: {blue_mu}')\n"
   ]
  },
  {
   "cell_type": "markdown",
   "metadata": {},
   "source": [
    "### hmmm... Now what?\n",
    "\n",
    "\n",
    "1. Lets use the new *_mu values to generate some data\n",
    "2. We will fit the model with the generated data\n",
    "3. Then we will make a prediction with the validation, X_true data\n",
    "4. Compare the predictions with Y_true\n",
    "\n",
    "\n",
    "#### Lets see how we did\n",
    "\n",
    "NOTE: This is a sort of cherry picked example, with the same mu values you can get samples that dont preform as well. We only have 10 samples, can always increase. In the paper they draw many datasets for each epoch."
   ]
  },
  {
   "cell_type": "code",
   "execution_count": 65,
   "metadata": {},
   "outputs": [],
   "source": [
    "# 1. Lets use the new *_mu values to generate some data\n",
    "sim_train_data = SIMULATOR(red_mu=1.59,\n",
    "                               blue_mu=1.4)"
   ]
  },
  {
   "cell_type": "code",
   "execution_count": 66,
   "metadata": {},
   "outputs": [
    {
     "data": {
      "text/plain": [
       "array([[ 1.64679471,  1.54947011,  1.        ],\n",
       "       [ 1.64852349,  1.78497392,  1.        ],\n",
       "       [ 1.38704427,  1.5772035 ,  1.        ],\n",
       "       [ 1.7048872 ,  1.6325787 ,  1.        ],\n",
       "       [ 1.6979524 ,  1.61300557,  1.        ],\n",
       "       [ 1.72577888,  1.56998623,  1.        ],\n",
       "       [ 1.63948546,  1.64343983,  1.        ],\n",
       "       [ 1.76864163,  1.75177902,  1.        ],\n",
       "       [ 1.65922935,  1.539877  ,  1.        ],\n",
       "       [ 1.69717883,  1.63577204,  1.        ],\n",
       "       [ 1.50972276,  1.3324451 ,  0.        ],\n",
       "       [ 1.33803068,  1.42336062,  0.        ],\n",
       "       [ 1.30552552,  1.39851441,  0.        ],\n",
       "       [ 1.30256091,  1.35000444,  0.        ],\n",
       "       [ 1.45535498,  1.51901994,  0.        ],\n",
       "       [ 1.23886334,  1.44443158,  0.        ],\n",
       "       [ 1.46719492,  1.41637137,  0.        ],\n",
       "       [ 1.56330235,  1.44002004,  0.        ],\n",
       "       [ 1.21442467,  1.33556802,  0.        ],\n",
       "       [ 1.62000081,  1.39097868,  0.        ]])"
      ]
     },
     "execution_count": 66,
     "metadata": {},
     "output_type": "execute_result"
    }
   ],
   "source": [
    "sim_train_data "
   ]
  },
  {
   "cell_type": "markdown",
   "metadata": {},
   "source": [
    "### Quick plot - Sanity Check"
   ]
  },
  {
   "cell_type": "code",
   "execution_count": 67,
   "metadata": {},
   "outputs": [
    {
     "data": {
      "image/png": "[encoded data removed]",
      "text/plain": [
       "<matplotlib.figure.Figure at 0x11f7614a8>"
      ]
     },
     "metadata": {},
     "output_type": "display_data"
    }
   ],
   "source": [
    "plt.scatter(sim_train_data[:10,0], sim_train_data[:10,1], marker='x', c='red', label='Red Guess, $\\mu = 1.59$')\n",
    "plt.scatter(sim_train_data[10:,0], sim_train_data[10:,1], marker='x', c='blue', label='Blue Guess, $\\mu = 1.4$')\n",
    "plt.scatter(X_true[:3,0], X_true[:3,1], c='r', label='Class 1')\n",
    "plt.scatter(X_true[3:,0], X_true[3:,1], c='b', label='Class 2')\n",
    "plt.xlim(0, 4)\n",
    "plt.ylim(0,4)\n",
    "plt.legend(loc='best');"
   ]
  },
  {
   "cell_type": "code",
   "execution_count": 68,
   "metadata": {},
   "outputs": [],
   "source": [
    "# Prepare simulated data\n",
    "X = sim_train_data[:,:2]\n",
    "Y = sim_train_data[:,-1]\n"
   ]
  },
  {
   "cell_type": "code",
   "execution_count": 69,
   "metadata": {},
   "outputs": [
    {
     "data": {
      "text/plain": [
       "SVC(C=1000, cache_size=200, class_weight=None, coef0=0.0,\n",
       "  decision_function_shape='ovr', degree=3, gamma='auto', kernel='rbf',\n",
       "  max_iter=-1, probability=False, random_state=0, shrinking=True,\n",
       "  tol=0.001, verbose=False)"
      ]
     },
     "execution_count": 69,
     "metadata": {},
     "output_type": "execute_result"
    }
   ],
   "source": [
    "# 2. Fit the model with simulated Data\n",
    "clf.fit(X, Y)"
   ]
  },
  {
   "cell_type": "code",
   "execution_count": 70,
   "metadata": {},
   "outputs": [],
   "source": [
    "# 3. Then we will make a prediction with the validation, X_true data\n",
    "pred = clf.predict(X_true)"
   ]
  },
  {
   "cell_type": "code",
   "execution_count": 71,
   "metadata": {},
   "outputs": [
    {
     "data": {
      "text/plain": [
       "array([ 1.,  1.,  1.,  0.,  0.,  0.])"
      ]
     },
     "execution_count": 71,
     "metadata": {},
     "output_type": "execute_result"
    }
   ],
   "source": [
    "pred"
   ]
  },
  {
   "cell_type": "code",
   "execution_count": 72,
   "metadata": {},
   "outputs": [
    {
     "data": {
      "text/plain": [
       "array([1, 1, 1, 0, 0, 0])"
      ]
     },
     "execution_count": 72,
     "metadata": {},
     "output_type": "execute_result"
    }
   ],
   "source": [
    "Y_true"
   ]
  },
  {
   "cell_type": "code",
   "execution_count": 73,
   "metadata": {},
   "outputs": [
    {
     "data": {
      "text/plain": [
       "1.0"
      ]
     },
     "execution_count": 73,
     "metadata": {},
     "output_type": "execute_result"
    }
   ],
   "source": [
    "accuracy_score(Y_true, pred) # Sweet!"
   ]
  },
  {
   "cell_type": "code",
   "execution_count": null,
   "metadata": {},
   "outputs": [],
   "source": [
    "### "
   ]
  },
  {
   "cell_type": "code",
   "execution_count": 76,
   "metadata": {},
   "outputs": [
    {
     "data": {
      "text/plain": [
       "array([[ 1. ,  2. ],\n",
       "       [ 1.2,  2. ],\n",
       "       [ 1.5,  2. ],\n",
       "       [ 2.2,  1. ],\n",
       "       [ 2.3,  1. ],\n",
       "       [ 2.4,  1. ]])"
      ]
     },
     "execution_count": 76,
     "metadata": {},
     "output_type": "execute_result"
    }
   ],
   "source": [
    "X_true"
   ]
  },
  {
   "cell_type": "code",
   "execution_count": 81,
   "metadata": {},
   "outputs": [
    {
     "data": {
      "image/png": "[encoded data removed]",
      "text/plain": [
       "<matplotlib.figure.Figure at 0x120b6a2e8>"
      ]
     },
     "metadata": {},
     "output_type": "display_data"
    }
   ],
   "source": [
    "# figure number\n",
    "fignum = 1\n",
    "\n",
    "# plot the line, the points, and the nearest vectors to the plane\n",
    "plt.figure(fignum, figsize=(8, 6))\n",
    "plt.clf()\n",
    "\n",
    "plt.scatter(clf.support_vectors_[:, 0], clf.support_vectors_[:, 1], s=80,\n",
    "            facecolors='none', zorder=10, edgecolors='k')\n",
    "plt.scatter(X_true[:3, 0], X_true[:3, 1], c='red', zorder=10, edgecolors='k', label='Red Class')\n",
    "plt.scatter(X_true[3:, 0], X_true[3:, 1], c='blue', zorder=10, edgecolors='k', label='Blue Class')\n",
    "#plt.scatter(X[:10,0], X[:10,1], c='red', marker='x', label='Red Guess')\n",
    "#plt.scatter(X[10:,0], X[10:,1], c='blue', marker='x', label='blue Guess')\n",
    "\n",
    "plt.axis('tight')\n",
    "x_min = 0\n",
    "x_max = 2.5\n",
    "y_min = 0\n",
    "y_max = 2.5\n",
    "\n",
    "XX, YY = np.mgrid[x_min:x_max:200j, y_min:y_max:200j]\n",
    "Z = clf.decision_function(np.c_[XX.ravel(), YY.ravel()])\n",
    "\n",
    "# Put the result into a color plot\n",
    "Z = Z.reshape(XX.shape)\n",
    "plt.figure(fignum, figsize=(4, 3))\n",
    "plt.pcolormesh(XX, YY, Z > 0, cmap=plt.cm.Paired)\n",
    "plt.contour(XX, YY, Z, colors=['k', 'k', 'k'], linestyles=['--', '-', '--'],\n",
    "            levels=[-.5, 0, .5])\n",
    "\n",
    "plt.xlim(x_min, x_max)\n",
    "plt.ylim(y_min, y_max)\n",
    "\n",
    "plt.xticks(())\n",
    "plt.yticks(())\n",
    "plt.legend(loc='best');"
   ]
  },
  {
   "cell_type": "markdown",
   "metadata": {},
   "source": [
    "### Woot we did it!"
   ]
  },
  {
   "cell_type": "markdown",
   "metadata": {},
   "source": [
    "### PUT MEMES HERE!"
   ]
  },
  {
   "cell_type": "markdown",
   "metadata": {},
   "source": [
    "# ----------------------------------"
   ]
  }
 ],
 "metadata": {
  "kernelspec": {
   "display_name": "Python 3",
   "language": "python",
   "name": "python3"
  },
  "language_info": {
   "codemirror_mode": {
    "name": "ipython",
    "version": 3
   },
   "file_extension": ".py",
   "mimetype": "text/x-python",
   "name": "python",
   "nbconvert_exporter": "python",
   "pygments_lexer": "ipython3",
   "version": "3.6.6"
  }
 },
 "nbformat": 4,
 "nbformat_minor": 2
}
